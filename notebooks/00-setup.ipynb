{
 "cells": [
  {
   "cell_type": "markdown",
   "id": "ab12ec7d",
   "metadata": {},
   "source": [
    "# System setup\n",
    "\n",
    "Use this notebook to set up your Python environment and to check if it working."
   ]
  },
  {
   "cell_type": "markdown",
   "id": "be9021a5",
   "metadata": {},
   "source": [
    "## Set up environment in Visual Studio Code\n",
    "\n",
    "It is recommended to create a virtual environment before installing the required Python packages. That way, the packages will be installed in a clean environment and won't interfere with other projects. \n",
    "\n",
    "Current versions of Visual Studio Code offer support for virtual environments using [`venv`](https://docs.python.org/3/library/venv.html) or [`anaconda`](https://www.anaconda.com/). \n",
    "\n",
    "Follow the instructions below to set up a new Jupyter Kernel in VS Code.\n",
    "\n",
    "0. (Add the folder containing this git repository to the workspace)\n",
    "1. Open the command palette (Ctrl+Shift+P, Mac: Cmd+Shift+P)\n",
    "2. Enter: Notebook: Select Notebook Kernel\n",
    "3. Choose: Select Another Kernel\n",
    "4. Choose: Python Environments\n",
    "5. Choose: Create Python Environment\n",
    "6. Choose: Venv or Conda\n",
    "7. Choose the workspace directory containing this git repository\n",
    "8. Select an available Python installation, please use Python 3.10 or newer\n",
    "9. Now, a list of available requirements.txt files are shown. Choose the one in this git repository.\n",
    "10. Hit enter. Now the virtal environment is created and the kernel is ready to use.\n",
    "\n",
    "After this initial effort, you will be able to select the kernel when opening a notebook in VS Code. The virtual environment resides in a (hidden) folder .venv of the workspace directory you have selected above."
   ]
  },
  {
   "cell_type": "markdown",
   "id": "3101de0b",
   "metadata": {},
   "source": [
    "## System summary\n",
    "\n",
    "If you run into problems with the setup, please copy the output of the below code.\n",
    "\n",
    "Note: The code can run for up to 30 seconds on some platforms."
   ]
  },
  {
   "cell_type": "code",
   "execution_count": 1,
   "id": "50771741",
   "metadata": {},
   "outputs": [
    {
     "name": "stdout",
     "output_type": "stream",
     "text": [
      "Repository Info:\n",
      "================\n",
      "            Name : ISP_reichch4.git\n",
      "          Commit : 700d1a59\n",
      "            Date : 2025-02-17 11:11:40\n",
      "    Edited files : [ notebooks/00-setup.ipynb ]\n",
      "\n",
      "Python:\n",
      "=======\n",
      "         Version : 3.11.5\n",
      "      Executable : c:\\Daten\\ADLS\\ISP\\venv\\Scripts\\python.exe\n",
      "\n",
      "Platform Info:\n",
      "==============\n",
      "            OS : Win (Windows)\n",
      "       OS Info : Windows-10-10.0.22631-SP0\n",
      "       OS Arch : 64bit\n",
      "\n",
      "Packages:\n",
      "=========\n",
      "         numpy : 1.26.4\n",
      "         scipy : 1.15.2\n",
      "        pandas : 2.1.4\n",
      "    matplotlib : 3.10.0\n",
      "       seaborn : 0.13.2\n",
      "  OpenCV (cv2) : 4.11.0\n",
      "  Pillow (PIL) : 11.1.0\n",
      "       skimage : 0.25.1\n",
      "     soundfile : 0.13.1\n",
      "   sounddevice : 0.5.1\n",
      "       jupyter : available\n",
      "\n",
      "FFmpeg:\n",
      "=======\n",
      "        ffmpeg : 7.1-full_build-www.gyan.dev\n",
      " ffmpeg-python : available\n"
     ]
    }
   ],
   "source": [
    "import sys\n",
    "sys.path.append(\"..\")\n",
    "from isp.system_info import print_system_info\n",
    "\n",
    "print_system_info()"
   ]
  },
  {
   "cell_type": "markdown",
   "id": "9052f8bb",
   "metadata": {},
   "source": [
    "## Tested environment\n",
    "\n",
    "For reference: The tutor has tested the code in the below environment. It is expected that most of the examples will also run for older and newer versions of the packages. If you encounter compatibility issues, please report the problem as an issue in the Github repository: [Link](https://github.zhaw.ch/ADLS-Data-Science-and-Computation/Image-and-Signal-Processing-FS24/issues)\n",
    "```lang-none\n",
    "\n",
    "        Python : 3.10.5\n",
    "         numpy : 1.26.4\n",
    "         scipy : 1.12.0\n",
    "        pandas : 2.2.0\n",
    "    matplotlib : 3.8.3\n",
    "       seaborn : 0.13.2\n",
    "  OpenCV (cv2) : 4.9.0\n",
    "  Pillow (PIL) : 10.2.0\n",
    "       skimage : 0.22.0\n",
    "     soundfile : 0.12.1\n",
    "   sounddevice : 0.4.6\n",
    "       jupyter : 1.0.0\n",
    "```"
   ]
  }
 ],
 "metadata": {
  "kernelspec": {
   "display_name": "venv",
   "language": "python",
   "name": "python3"
  },
  "language_info": {
   "codemirror_mode": {
    "name": "ipython",
    "version": 3
   },
   "file_extension": ".py",
   "mimetype": "text/x-python",
   "name": "python",
   "nbconvert_exporter": "python",
   "pygments_lexer": "ipython3",
   "version": "3.11.5"
  }
 },
 "nbformat": 4,
 "nbformat_minor": 5
}
