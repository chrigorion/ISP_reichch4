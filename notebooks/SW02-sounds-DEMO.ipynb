{
 "cells": [
  {
   "cell_type": "markdown",
   "metadata": {},
   "source": [
    "# **Audio data in Python**\n",
    "\n",
    "<div style=\"color:#777777;margin-top: -15px;\">\n",
    "<b>Author</b>: Norman Juchler |\n",
    "<b>Course</b>: ADLS ISP |\n",
    "<b>Version</b>: v1.2 <br><br>\n",
    "<!-- Date: 05.03.2025 -->\n",
    "<!-- Comments: Fully refactored. -->\n",
    "<!-- TODOs: Show how to record, introduce spectrograms -->\n",
    "</div>\n",
    "\n",
    "Audio data is a specific type of time series data. In this notebook, we will learn how to read, write, and process audio files.\n",
    "\n",
    "**Input**: Audio data  \n",
    "**Output**: Various processed audio formats  \n",
    "**Methods**: Read, write, and stream audio  \n",
    "**Tools**: Python packages `sounddevice`, `soundfile`  \n",
    "**Goal**: Gain a foundational understanding of handling audio files in Python\n",
    "\n",
    "For this course, we will primarily use the Python package [`sounddevice`](https://python-sounddevice.readthedocs.io/). If you are interested in exploring alternative libraries, consider the following resources:\n",
    "\n",
    "* [Real Python: Playing and Recording Sound in Python](https://realpython.com/playing-and-recording-sound-python/)\n",
    "* [Python Wiki: Audio in Python](https://wiki.python.org/moin/Audio/)\n",
    "\n",
    "<br>\n",
    "\n",
    "<div class=\"alert alert-block alert-danger\"><b>Volume Warning</b>: Before running any audio script, ensure your speaker volume is set appropriately to avoid loud and unpleasant noise due to incorrect parameter choices.</div>\n",
    "\n",
    "<div class=\"alert alert-block alert-danger\"><b>Hardware Changes</b>: If you change your hardware configuration (e.g., disconnecting or reconnecting headphones), you must restart the Jupyter kernel to prevent potential errors.</div>\n",
    "\n",
    "<div class=\"alert alert-block alert-info\"><b>Compatibility Issues</b>: This tutorial requires compatible audio hardware and working drivers. Some parts of the tutorial may not function correctly depending on your setup. If you experience audio glitches or playback issues, <b>stop execution and restart</b>. Adjusting the <b>sampling rate</b> can sometimes help resolve playback problems.</div>\n"
   ]
  },
  {
   "cell_type": "markdown",
   "metadata": {},
   "source": [
    "---\n",
    "\n",
    "## **Preparations**"
   ]
  },
  {
   "cell_type": "code",
   "execution_count": null,
   "metadata": {},
   "outputs": [],
   "source": [
    "import sys\n",
    "import numpy as np\n",
    "import pandas as pd\n",
    "import soundfile as sf\n",
    "import sounddevice as sd\n",
    "from pathlib import Path\n",
    "from time import sleep\n",
    "\n",
    "# Functionality related to this course\n",
    "sys.path.append(\"..\")\n",
    "import isp\n",
    "\n",
    "# Jupyter / IPython configuration:\n",
    "# Automatically reload modules when modified\n",
    "%load_ext autoreload\n",
    "%autoreload 2"
   ]
  },
  {
   "cell_type": "markdown",
   "metadata": {},
   "source": [
    "---\n",
    "\n",
    "## **Listing available audio devices**\n",
    "\n",
    "Before playing or recording audio, we need to select a suitable device. Using the `sounddevice` package, we can list all available audio devices on our system."
   ]
  },
  {
   "cell_type": "code",
   "execution_count": null,
   "metadata": {},
   "outputs": [],
   "source": [
    "sd.query_devices()"
   ]
  },
  {
   "cell_type": "markdown",
   "metadata": {},
   "source": [
    "When executing the command, you may notice the following symbols in the output: `>` and `<` indicate the default input and output devices. `*` signifies a device that functions as both an input and an output. To retrieve more detailed information about a specific device, we can pass its identifier to the same function:"
   ]
  },
  {
   "cell_type": "code",
   "execution_count": null,
   "metadata": {},
   "outputs": [],
   "source": [
    "sd.query_devices(1)"
   ]
  },
  {
   "attachments": {},
   "cell_type": "markdown",
   "metadata": {},
   "source": [
    "---\n",
    "\n",
    "## **Reading and playing an audio file**\n",
    "\n",
    "Now, let's demonstrate how to read and play an audio file using the soundfile packages.\n"
   ]
  },
  {
   "cell_type": "code",
   "execution_count": null,
   "metadata": {},
   "outputs": [],
   "source": [
    "data, sampling_rate = sf.read(\"../data/signals/yeah.mp3\")\n",
    "sd.play(data, sampling_rate)\n",
    "\n",
    "# Wait for the playback to complete\n",
    "sd.wait()"
   ]
  },
  {
   "cell_type": "markdown",
   "metadata": {},
   "source": [
    "**Stereo vs. mono playback:** By default, audio files are read in stereo format, meaning the data contains two channels (left and right). Let's check the shape of the data and compare stereo versus mono playback. Can you hear the difference, if we listen to one channel only?"
   ]
  },
  {
   "cell_type": "code",
   "execution_count": null,
   "metadata": {},
   "outputs": [],
   "source": [
    "print(\"Shape of data:\", data.shape)\n",
    "print(\"Playing stereo...\")\n",
    "sd.play(data, sampling_rate*2)\n",
    "sd.wait()\n",
    "print(\"Playing mono...\")\n",
    "sd.play(data[:,0], sampling_rate*2)\n",
    "sd.wait()"
   ]
  },
  {
   "cell_type": "markdown",
   "metadata": {},
   "source": [
    "**Adjusting playback speed:** By adjusting the sampling rate, we can adjust the playback speed. Try experimenting with different playback speeds and listen to how the pitch changes accordingly."
   ]
  },
  {
   "cell_type": "code",
   "execution_count": null,
   "metadata": {},
   "outputs": [],
   "source": [
    "for speed in [2, 3, 4, 0.5, 0.25]:\n",
    "    print(f\"Playing at {speed}x speed...\", flush=True)\n",
    "    sd.play(data, speed*sampling_rate)\n",
    "    sd.wait()"
   ]
  },
  {
   "cell_type": "markdown",
   "metadata": {},
   "source": [
    "---\n",
    "\n",
    "## **Synthesizing an audio signal**\n",
    "\n",
    "We can generate synthetic sounds using sine waves. Let’s start by creating a single pure tone."
   ]
  },
  {
   "cell_type": "code",
   "execution_count": null,
   "metadata": {},
   "outputs": [],
   "source": [
    "# Parameters\n",
    "duration = 3            # Seconds\n",
    "frequency = 440         # Hz (A4, standard pitch, German: \"Kammerton A\")\n",
    "amplitude = 0.3         # Adjust volume carefully!\n",
    "sampling_rate = 44100   # Hz\n",
    "\n",
    "# Optional: Match the device's default sampling rate\n",
    "# sampling_rate = sd.query_devices(kind=\"output\")[\"default_samplerate\"]\n",
    "\n",
    "# Generate time vector\n",
    "t = np.linspace(0, duration, int(sampling_rate * duration), endpoint=False)\n",
    "\n",
    "# Generate sine wave signal\n",
    "x = amplitude * np.sin(2 * np.pi * frequency * t)\n",
    "\n",
    "# Play the sound\n",
    "sd.play(x, sampling_rate)\n",
    "sd.wait()"
   ]
  },
  {
   "cell_type": "markdown",
   "metadata": {},
   "source": [
    "**Creating chords:** We can also play multiple frequencies simultaneously to generate chords. Let’s define a function to generate sine waves and use it to synthesize major and minor chords. Try experimenting with different frequencies and amplitudes to create your own custom sounds!"
   ]
  },
  {
   "cell_type": "code",
   "execution_count": null,
   "metadata": {},
   "outputs": [],
   "source": [
    "def sine_wave(frequency, amplitude=0.2, duration=3, sampling_rate=44100):\n",
    "    \"\"\"Generate a sine wave of a given frequency and duration.\"\"\"\n",
    "    t = np.linspace(0, duration, int(sampling_rate * duration), endpoint=False)\n",
    "    return amplitude * np.sin(2 * np.pi * frequency * t)\n",
    "\n",
    "# Define frequencies for an A major chord\n",
    "freqs_amaj = [110, 165, 220, 277, 330]  # A, E, A, C#, E\n",
    "\n",
    "# Define frequencies for an A minor chord\n",
    "freqs_amin = [110, 164, 220, 262, 330]  # A, E, A, C, E\n",
    "\n",
    "# Generate audio signals for the chords\n",
    "data_amaj = np.sum([sine_wave(f, amplitude=0.3) for f in freqs_amaj], axis=0)\n",
    "data_amin = np.sum([sine_wave(f, amplitude=0.3) for f in freqs_amin], axis=0)\n",
    "\n",
    "# Play the chords\n",
    "print(\"Playing A major chord...\")\n",
    "sd.play(data_amaj, sampling_rate)\n",
    "sd.wait()\n",
    "\n",
    "print(\"Playing A minor chord...\")\n",
    "sd.play(data_amin, sampling_rate)\n",
    "sd.wait()\n"
   ]
  },
  {
   "cell_type": "markdown",
   "metadata": {},
   "source": [
    "### **Exploring polyphony**\n",
    "\n",
    "Yes, polyphony makes everything sound richer! Let's create a function to generate chords from a list of notes and use it to play a short melody.\n",
    "\n",
    "We start by loading musical notes from a CSV file that maps note names and octaves to their corresponding frequencies. For example, \"C4\" corresponds to 261.63 Hz. "
   ]
  },
  {
   "cell_type": "code",
   "execution_count": null,
   "metadata": {},
   "outputs": [],
   "source": [
    "# Load the notes\n",
    "df_notes = pd.read_csv(\"../data/notes.csv\", index_col=0)\n",
    "print(df_notes)"
   ]
  },
  {
   "cell_type": "markdown",
   "metadata": {},
   "source": [
    "**Defining chords:** Next, we define a dictionary that maps chord names to a list of note labels. We will later convert these note labels into actual frequencies."
   ]
  },
  {
   "cell_type": "code",
   "execution_count": null,
   "metadata": {},
   "outputs": [],
   "source": [
    "# Dictionary of common chords with readable note labels\n",
    "chords_dict = {\n",
    "    \"C\":  [\"C3\", \"E3\", \"G3\", \"C4\", \"E4\"],\n",
    "    \"Cm\": [\"C3\", \"Eb3\", \"G3\", \"C4\", \"Eb4\"],\n",
    "    \"D\":  [\"D3\", \"F#3\", \"A3\", \"D4\", \"F#4\"],\n",
    "    \"Dm\": [\"D3\", \"F3\", \"A3\", \"D4\", \"F4\"],\n",
    "    \"E\":  [\"E2\", \"B2\", \"G#3\", \"B3\", \"E4\"],\n",
    "    \"Em\": [\"E2\", \"B2\", \"G3\", \"B3\", \"E4\"],\n",
    "    \"F\":  [\"F3\", \"A3\", \"C4\", \"F4\", \"A4\"],\n",
    "    \"Fm\": [\"F3\", \"Ab3\", \"C4\", \"F4\", \"Ab4\"],\n",
    "    \"G\":  [\"G2\", \"B2\", \"D3\", \"G3\", \"B3\"],\n",
    "    \"Gm\": [\"G2\", \"Bb2\", \"D3\", \"G3\", \"Bb3\"],\n",
    "    \"A\":  [\"A2\", \"E3\", \"A3\", \"C#4\", \"A4\"],\n",
    "    \"Am\": [\"A2\", \"E3\", \"A3\", \"C4\", \"A4\"],\n",
    "    \"B\":  [\"B2\", \"F#3\", \"B3\", \"D#4\", \"F#4\"],\n",
    "    \"Bm\": [\"B2\", \"F#3\", \"B3\", \"D4\", \"F#4\"],\n",
    "}\n",
    "\n",
    "# This is a helper function to convert a note code into a frequency.\n",
    "def note2freq(note):\n",
    "    \"\"\"Convert a note label (e.g., 'C4') to its corresponding frequency in Hz.\n",
    "        \n",
    "    Argument: note (str) in the format \"C4\" or \"A#3\"\n",
    "    Returns: frequency (float) in Hz\"\"\"\n",
    "    octave, note = int(note[-1]), note[:-1]\n",
    "    return df_notes.loc[octave, note]\n",
    "\n",
    "# We use map() and dictionary comprehension to convert all the note labels\n",
    "# in our chords_dict into their corresponding frequencies.\n",
    "chords_dict = {k: list(map(note2freq, code)) for k, code in chords_dict.items()}\n",
    "\n",
    "# The above was just a bit of data wrangling to prepare the actual fun.\n",
    "# Let's define a function to synthesize a chord by summing multiple sine waves.\n",
    "def chord(freqs, amplitude=0.3, duration=3, sampling_rate=44100, weights=None):\n",
    "    \"\"\"Generate a chord by summing sine waves of multiple frequencies.\n",
    "    \n",
    "    Args:\n",
    "        freqs (list): List of frequencies in Hz\n",
    "        amplitude (float): Amplitude of the sine waves\n",
    "        duration (float): Duration of the chord in seconds\n",
    "        sampling_rate (int): Number of samples per second\n",
    "        weights (list): List of weights for each frequency (optional)\n",
    "    \"\"\"\n",
    "    if weights is None:\n",
    "        weights = np.ones(len(freqs))\n",
    "    \n",
    "    # Normalize the weights\n",
    "    weights /= np.sum(weights) / len(weights)\n",
    "    \n",
    "    # Generate sine waves and sum them to create the chord\n",
    "    sines = [sine_wave(f, amplitude*w, duration, sampling_rate) \n",
    "             for f, w in zip(freqs, weights)]\n",
    "    return np.sum(sines, axis=0)\n"
   ]
  },
  {
   "cell_type": "markdown",
   "metadata": {},
   "source": [
    "**Performing a simple chord sequence:** Now we’re ready to generate a simple chord progression!"
   ]
  },
  {
   "cell_type": "code",
   "execution_count": null,
   "metadata": {},
   "outputs": [],
   "source": [
    "chord_sequence = [\n",
    "    chord(chords_dict[\"Am\"], duration=1),\n",
    "    chord(chords_dict[\"Em\"], duration=1),\n",
    "    chord(chords_dict[\"C\"],  duration=1),\n",
    "    chord(chords_dict[\"Am\"], duration=2),\n",
    "]\n",
    "chord_sequence = np.concatenate(chord_sequence)\n",
    "\n",
    "sd.play(chord_sequence*2, sampling_rate)\n",
    "sd.wait()\n"
   ]
  },
  {
   "cell_type": "markdown",
   "metadata": {},
   "source": [
    "## **Saving audio data to file**\n",
    "\n",
    "Once we have generated our audio data, we can save it as a file for later use.\n",
    "\n",
    "\n",
    "**Audio data normalization:** Before saving, we normalize the data to the range [-1, 1] to prevent clipping when played back in different software. While the soundfile library supports values outside this range, other audio processing tools might not."
   ]
  },
  {
   "cell_type": "code",
   "execution_count": null,
   "metadata": {},
   "outputs": [],
   "source": [
    "# Let's assume we have some audio data.\n",
    "data = chord_sequence\n",
    "\n",
    "# Normalize the data to the range [-1, 1] to avoid clipping effects.\n",
    "data = data / np.max(np.abs(data))\n",
    "\n",
    "# We can save it to a file using the soundfile library.\n",
    "sf.write(\"chord_sequence.mp3\", data, sampling_rate)\n",
    "sf.write(\"chord_sequence.wav\", data, sampling_rate)\n",
    "print(\"Saved to MP3:\", Path(\"chord_sequence.mp3\").is_file())\n",
    "print(\"Saved to WAV:\", Path(\"chord_sequence.wav\").is_file())\n",
    "\n",
    "# Confirm the files were created\n",
    "data, sampling_rate = sf.read(\"chord_sequence.mp3\")\n",
    "sd.play(data, sampling_rate)\n",
    "sd.wait()"
   ]
  },
  {
   "cell_type": "markdown",
   "metadata": {},
   "source": [
    "## **Noise**\n",
    "\n",
    "Noise can be modeled by superimposing a random signal onto the original audio data. Different types of noise can be generated, each with unique characteristics.\n",
    "\n",
    "We explore two common noise models:\n",
    "\n",
    "- Gaussian noise (a.k.a. white noise):\n",
    "  * Values follow a normal distribution with a given mean and standard deviation.\n",
    "  * Typically used for simulating background noise in audio processing.\n",
    "\n",
    "- Uniform noise:\n",
    "  * Values are randomly distributed within a fixed range.\n",
    "  * Produces a more uniform hissing sound compared to Gaussian noise.\n",
    "\n",
    "**⚠ Warning**: High noise levels can be unpleasant and potentially harmful to your ears and speakers. Use caution when setting the amplitude."
   ]
  },
  {
   "cell_type": "code",
   "execution_count": null,
   "metadata": {},
   "outputs": [],
   "source": [
    "# Define the noise amplitude (adjust with caution)\n",
    "amplitude_noise = 0.05\n",
    "\n",
    "# Different noise models are possible. Here, you can switch between \n",
    "# Gaussian and uniform noise.\n",
    "noise = np.random.normal(loc=0,                 # Mean value\n",
    "                         scale=amplitude_noise, # Standard deviation\n",
    "                         size=len(data_amaj))   # Number of samples\n",
    "\n",
    "noise = np.random.uniform(low=-amplitude_noise, # Lower bound\n",
    "                          high=amplitude_noise, # Upper bound\n",
    "                          size=len(data_amaj))  # Number of samples\n",
    "\n",
    "sd.play(noise+data_amaj, sampling_rate)"
   ]
  },
  {
   "cell_type": "markdown",
   "metadata": {},
   "source": [
    "## **Exploring audio effects**\n",
    "\n",
    "We've now built a basic synthesizer — time to get creative! \n",
    "\n",
    "Effects can shape how our sounds evolve, making them more dynamic and expressive.\n",
    "\n",
    "\n",
    "**Fade effects:** For instance we could apply effects on the overall amplitude. The fade-in and fade-out effects can be used to smoothly introduce and remove audio signals.\n",
    "\n"
   ]
  },
  {
   "cell_type": "code",
   "execution_count": null,
   "metadata": {},
   "outputs": [],
   "source": [
    "def fade_in(data, duration=0.1, sampling_rate=44100, mode=\"linear\"):\n",
    "    \"\"\"Apply a fade-in effect to an audio signal.\n",
    "    \n",
    "    Args:\n",
    "        data (np.ndarray): Audio data.\n",
    "        duration (float): Fade-in duration (seconds).\n",
    "        sampling_rate (int): Sampling rate (Hz).\n",
    "        mode (str): Type of fade. Options: \"linear\", \"sine\", \"sine-squared\".\n",
    "\n",
    "    Returns:\n",
    "        np.ndarray: Audio with fade-in applied.\n",
    "    \"\"\"\n",
    "    t = np.linspace(0, duration, int(sampling_rate * duration), endpoint=False)\n",
    "    # Create the fade-in function. \n",
    "    if mode == \"linear\":\n",
    "        # Option 1: Linear fade-in\n",
    "        fade = t / duration\n",
    "    elif mode == \"sine\":\n",
    "        # Option 2: Sine fade-in\n",
    "        fade = np.sin(2 * np.pi * t * 0.25/duration)\n",
    "    elif mode == \"sine-squared\":\n",
    "        # Option 3: Sine-squared fade-in\n",
    "        fade = np.sin(2 * np.pi * t * 0.25/duration)**2\n",
    "    else:\n",
    "        raise ValueError(\"Invalid mode. Options: 'linear', 'sine', 'sine-squared'\")\n",
    "    \n",
    "    # Copy the data to avoid modifying the original\n",
    "    data = data.copy()\n",
    "    # Apply the fade-in.\n",
    "    n = min(len(fade), len(data))\n",
    "    data[:n] *= fade[:n]\n",
    "    return data\n",
    "\n",
    "def fade_out(data, duration=0.1, sampling_rate=44100, mode=\"linear\"):\n",
    "    \"\"\"Apply a fade-out effect to an audio signal.\n",
    "\n",
    "    Args:\n",
    "        data (np.ndarray): Audio data.\n",
    "        duration (float): Fade-out duration (seconds).\n",
    "        sampling_rate (int): Sampling rate (Hz).\n",
    "        mode (str): Type of fade. Options: \"linear\", \"sine\", \"sine-squared\".\n",
    "\n",
    "    Returns:\n",
    "        np.ndarray: Audio with fade-out applied.\n",
    "    \"\"\"\n",
    "    t = np.linspace(0, duration, int(sampling_rate * duration), endpoint=False)\n",
    "    # Create the fade-out function. \n",
    "    if mode == \"linear\":\n",
    "        # Option 1: Linear fade-out\n",
    "        fade = 1 - t / duration \n",
    "    elif mode == \"sine\":\n",
    "        # Option 2: Sine fade-out\n",
    "        fade = np.cos(2 * np.pi * t * 0.25/duration)\n",
    "    elif mode == \"sine-squared\":\n",
    "        # Option 3: Sine-squared fade-out\n",
    "        fade = np.cos(2 * np.pi * t * 0.25/duration)**2\n",
    "        \n",
    "    # Copy the data to avoid modifying the original\n",
    "    data = data.copy()\n",
    "    # Apply the fade-in.\n",
    "    n = min(len(fade), len(data))\n",
    "    data[-n:] *= fade[-n:]\n",
    "    return data"
   ]
  },
  {
   "cell_type": "code",
   "execution_count": null,
   "metadata": {},
   "outputs": [],
   "source": [
    "# Let's try this out.\n",
    "mode = \"sine-squared\"\n",
    "duration = 1.5\n",
    "data_faded = fade_in(data_amaj, duration=duration, mode=mode) \n",
    "data_faded = fade_out(data_faded, duration=duration, mode=mode)\n",
    "sd.play(data_faded, sampling_rate)\n",
    "sd.wait()"
   ]
  },
  {
   "cell_type": "markdown",
   "metadata": {},
   "source": [
    "**Smooth chord transitions (crossfading):** We can improve chord transitions by crossfading, blending the end of one chord into the start of the next."
   ]
  },
  {
   "cell_type": "code",
   "execution_count": null,
   "metadata": {},
   "outputs": [],
   "source": [
    "# Define note duration and fade time\n",
    "t_note = 2\n",
    "t_fade = 0.25\n",
    "mode = \"sine\"\n",
    "\n",
    "# Generate two chords with a slight overlap\n",
    "chord1 = chord(chords_dict[\"Am\"], duration=t_note+t_fade)\n",
    "chord2 = chord(chords_dict[\"Em\"], duration=t_note+t_fade)\n",
    "\n",
    "# Apply fade effects for a smooth transition\n",
    "chord1 = fade_out(chord1, duration=t_fade, mode=mode)\n",
    "chord2 = fade_in(chord2, duration=t_fade, mode=mode)\n",
    "\n",
    "# Concatenate the two chords\n",
    "chord_sequence = np.concatenate([chord1, chord2])\n",
    "sd.play(chord_sequence, sampling_rate)"
   ]
  },
  {
   "cell_type": "markdown",
   "metadata": {},
   "source": [
    "For an even smoother result, we can apply **crossfading**, where both chords overlap:"
   ]
  },
  {
   "cell_type": "code",
   "execution_count": null,
   "metadata": {},
   "outputs": [],
   "source": [
    "# Compute sample indices for the crossfade\n",
    "n_total = int(t_note*2*sampling_rate)           # Total number of samples\n",
    "i_start = int(sampling_rate*(t_note-t_fade))    # Start of the second chord\n",
    "\n",
    "# Apply the crossfade\n",
    "chord_sequence_crossfaded = np.zeros(n_total)\n",
    "chord_sequence_crossfaded[:len(chord1)] += chord1\n",
    "chord_sequence_crossfaded[i_start:] += chord2\n",
    "\n",
    "# Play the crossfaded sequence\n",
    "sd.play(chord_sequence_crossfaded, sampling_rate)\n"
   ]
  },
  {
   "cell_type": "markdown",
   "metadata": {},
   "source": [
    "### **Get creative! Invent your own effects!**\n",
    "\n",
    "Here are five ideas for new effects:\n",
    "\n",
    "- Reverb simulation: Add overlapping echoes of the sound with decreasing amplitude.\n",
    "- Tremolo: Modulate the volume over time using a sine wave.\n",
    "- Echo/delay: Repeat the sound at regular intervals, fading each time.\n",
    "- Pitch shift: Change the frequency slightly to simulate vibrato.\n",
    "- Distortion: Apply non-linear amplification for a crunchy, electric effect.\n",
    "\n",
    "**Challenge**: Implement one of these effects without relying on ChatGPT!\n",
    "Experiment, tweak parameters, and see what sounds best! 🎵"
   ]
  },
  {
   "cell_type": "markdown",
   "metadata": {},
   "source": [
    "---\n",
    "\n",
    "## **Streaming audio in real time**\n",
    "\n",
    "So far, we have created sounds with fixed durations. However, we can also generate continuous audio that plays indefinitely. This requires more advanced coding concepts, such as callbacks and streams.\n",
    "\n",
    "Try to understand the code below. Which parts are difficult for you to follow?\n",
    "\n",
    "Note: When running the example in VS Code, a modal window may appear. You need to press Enter there to stop playback!"
   ]
  },
  {
   "cell_type": "code",
   "execution_count": null,
   "metadata": {},
   "outputs": [],
   "source": [
    "def generate_callback(amplitude, freqs, sampling_rate, queue=None):\n",
    "    \"\"\"Returns a callback function for real-time audio playback using sounddevice.OutputStream.\n",
    "\n",
    "    The callback generates a sine wave with the specified amplitude and frequencies.\n",
    "    If a queue is provided, it listens for new frequency updates.\n",
    "\n",
    "    This function demonstrates a Python concept called a \"closure,\" where the inner \n",
    "    function retains access to variables from the outer function.\n",
    "\n",
    "    Args:\n",
    "        amplitude (float): The amplitude of the sine wave.\n",
    "        freqs (list of float): List of frequencies (Hz) to play as a chord.\n",
    "        sampling_rate (int): The audio sampling rate.\n",
    "        queue (Queue, optional): A queue for dynamically updating frequencies.\n",
    "\n",
    "    Returns:\n",
    "        function: A callback function for real-time audio streaming.\n",
    "    \"\"\"\n",
    "\n",
    "    def callback(outdata, frames, time, status):\n",
    "        if status:\n",
    "            print(status, file=sys.stderr)\n",
    "            \n",
    "        # Check if a new chord is available in the queue.\n",
    "        if queue is not None and not queue.empty():\n",
    "            code = queue.get()\n",
    "            # Update frequencies only if the chord exists.\n",
    "            nonlocal freqs\n",
    "            freqs = chords_dict.get(code, freqs)\n",
    "        \n",
    "        # Generate a time vector for the sine wave.\n",
    "        # The counter is used to keep track of the phase of the sine wave.\n",
    "        t = (callback.counter + np.arange(frames)) / sampling_rate\n",
    "        \n",
    "        # Reshape the time vector to a column vector. This step is required\n",
    "        # to make the broadcasting work (see below).\n",
    "        t = t.reshape(-1, 1)\n",
    "        \n",
    "        # Create the sine waves, broadcasting to all channels if there are \n",
    "        # more than one (mono/stereo).\n",
    "        outdata[:] = 0\n",
    "        for f in freqs:\n",
    "            outdata[:] += amplitude * np.sin(2 * np.pi * f * t)\n",
    "            \n",
    "        # Update the counter to maintain phase continuity\n",
    "        callback.counter += frames\n",
    "\n",
    "    # Initialize the counter. Recall that Python functions are objects, and\n",
    "    # we can add attributes to them.\n",
    "    callback.counter = 0\n",
    "    \n",
    "    # A callback function is returned.\n",
    "    return callback\n",
    "\n",
    "\n",
    "# Create a callback function with initial parameters\n",
    "callback = generate_callback(amplitude=0.2, \n",
    "                             freqs=[440], \n",
    "                             sampling_rate=sampling_rate)\n",
    "\n",
    "# Start the audio stream\n",
    "with sd.OutputStream(channels=1, callback=callback,\n",
    "                     samplerate=sampling_rate):\n",
    "    print(\"#\" * 80)\n",
    "    print(\"Press Enter to stop the playback\")\n",
    "    print(\"#\" * 80)\n",
    "    try:\n",
    "        input()\n",
    "    except KeyboardInterrupt:\n",
    "        pass"
   ]
  },
  {
   "cell_type": "markdown",
   "metadata": {},
   "source": [
    "The example above utilizes multiple *threads*. If you're unfamiliar with threads, think of them as independent flows of program execution running simultaneously. The *main thread* runs the script and handles user input. The *worker thread* executes the callback function, continuously generating audio data. This multi-threading approach is common in Python and other programming languages. It ensures that audio playback continues without interrupting the main thread's execution.\n",
    "\n",
    "### **User-controlled chord playback**\n",
    "\n",
    "We can extend the above example to play chords according to user inputs. For this purpose, we will use a shared object to communicate information between the main thread and the worker thread. We will use a queue for this purpose. The queue is a First-In-First-Out (FIFO) data structure that is thread-safe. This means that we can use it to communicate between threads without worrying. The queue is a very useful tool for parallel programming.\n"
   ]
  },
  {
   "cell_type": "code",
   "execution_count": null,
   "metadata": {},
   "outputs": [],
   "source": [
    "# Create a queue to communicate between threads\n",
    "from queue import Queue\n",
    "queue = Queue()\n",
    "\n",
    "# Initialize callback with a queue for dynamic updates\n",
    "callback = generate_callback(amplitude=0.2, \n",
    "                             freqs=chords_dict[\"C\"], \n",
    "                             sampling_rate=sampling_rate,\n",
    "                             queue=queue)\n",
    "\n",
    "with sd.OutputStream(channels=1, callback=callback,\n",
    "                     samplerate=sampling_rate):\n",
    "    print(\"#\" * 80)\n",
    "    print(\"Enter q, Q or an empty string to stop the playback\")\n",
    "    print(\"Enter one of the following codes to change the chord:\")\n",
    "    print(list(chords_dict.keys()))\n",
    "    print(\"#\" * 80)\n",
    "    try:\n",
    "        while True:\n",
    "            # Check if the user has entered a new chord code\n",
    "            # If so, update the queue with the new code.\n",
    "            # The callback function will then use the new code.\n",
    "            ret = input()\n",
    "            if ret in (\"\", \"q\", \"Q\"):\n",
    "                print(\"Stopping...\")\n",
    "                break\n",
    "            queue.put(ret)\n",
    "    except KeyboardInterrupt:\n",
    "        pass"
   ]
  }
 ],
 "metadata": {
  "kernelspec": {
   "display_name": "venv-isp-fs24",
   "language": "python",
   "name": "python3"
  },
  "language_info": {
   "codemirror_mode": {
    "name": "ipython",
    "version": 3
   },
   "file_extension": ".py",
   "mimetype": "text/x-python",
   "name": "python",
   "nbconvert_exporter": "python",
   "pygments_lexer": "ipython3",
   "version": "3.10.5"
  }
 },
 "nbformat": 4,
 "nbformat_minor": 2
}
