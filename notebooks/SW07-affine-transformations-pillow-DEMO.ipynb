{
 "cells": [
  {
   "cell_type": "markdown",
   "metadata": {},
   "source": [
    "# **Image transformations (with Pillow)**\n",
    "\n",
    "<div style=\"color:#777777;margin-top: -15px;\">\n",
    "<b>Author</b>: Norman Juchler |\n",
    "<b>Course</b>: ADLS ISP |\n",
    "<b>Version</b>: v1.1 <br><br>\n",
    "<!-- Date: 03.04.2025 -->\n",
    "<!-- Comments: NOT refactored. -->\n",
    "</div>\n",
    "\n",
    "It is a common task to move, rotate, scale or otherwise transform an image. In this tutorial, you will learn about different ways to do this in Python.\n",
    "\n",
    "**Input**: 2D image  \n",
    "**Output**: Transformed 2D image  \n",
    "**Methods**: translate, rotate, scale, warp, crop  \n",
    "**Tools**: Pillow  \n",
    "**Goal**: Understand how to move an image  \n"
   ]
  },
  {
   "cell_type": "markdown",
   "metadata": {},
   "source": [
    "---\n",
    "\n",
    "## **Preparations**"
   ]
  },
  {
   "cell_type": "code",
   "execution_count": null,
   "metadata": {},
   "outputs": [],
   "source": [
    "import numpy as np\n",
    "import matplotlib.pyplot as plt\n",
    "import cv2 as cv\n",
    "import PIL\n",
    "\n",
    "# Jupyter / IPython configuration:\n",
    "# Automatically reload modules when modified\n",
    "%load_ext autoreload\n",
    "%autoreload 2\n",
    "\n",
    "# Enable vectorized output (for nicer plots)\n",
    "%config InlineBackend.figure_formats = [\"svg\"]\n",
    "\n",
    "# Inline backend configuration\n",
    "%matplotlib inline\n",
    "\n",
    "# Enable this line if you want to use the interactive widgets\n",
    "# It requires the ipympl package to be installed.\n",
    "#%matplotlib widget\n",
    "\n",
    "import sys\n",
    "sys.path.insert(0, \"../\")\n",
    "import isp\n"
   ]
  },
  {
   "cell_type": "code",
   "execution_count": null,
   "metadata": {},
   "outputs": [],
   "source": [
    "# Read in the images\n",
    "imageA = PIL.Image.open(\"../data/images/water2/missing.jpg\")\n",
    "imageB = PIL.Image.open(\"../data/images/water2/piece-rotated.jpg\")\n",
    "isp.show_image_pair(imageA, imageB)"
   ]
  },
  {
   "cell_type": "markdown",
   "metadata": {},
   "source": [
    "---\n",
    "\n",
    "## **Basic transformations**\n",
    "\n",
    "Pillow is really straightforward to use."
   ]
  },
  {
   "cell_type": "code",
   "execution_count": null,
   "metadata": {},
   "outputs": [],
   "source": [
    "# Define a background color\n",
    "#background = (143, 166, 193\t)   # RGB values\n",
    "background = (0, 0, 0, 0)       # Transparent color\n",
    "\n",
    "# Convert the image to RGBA\n",
    "imageB = imageB.convert(\"RGBA\")\n",
    "\n",
    "# Resize\n",
    "scaled = imageB.resize((250, 600))\n",
    "\n",
    "# Translate\n",
    "translated = PIL.Image.new(imageB.mode, imageB.size, color=background)\n",
    "translated.paste(imageB, (100, 150))\n",
    "\n",
    "# Rotate\n",
    "rotated = imageB.rotate(70, fillcolor=background)\n",
    "\n",
    "isp.show_image_chain(images=(imageB, scaled, translated, rotated),\n",
    "                     titles=(\"original\", \"scaled\", \"translated\", \"rotated\"))"
   ]
  },
  {
   "cell_type": "code",
   "execution_count": null,
   "metadata": {},
   "outputs": [],
   "source": [
    "# It is also possible to specify an affine transformation matrix\n",
    "# to perform arbitrary transformations\n",
    "mask = np.array([[0.51, -1.1, 400], [1.5, 0.8, -400], [0, 0, 1]])\n",
    "transformed = imageB.transform(imageB.size, PIL.Image.AFFINE, mask.flatten(), \n",
    "                               fillcolor=background)\n",
    "isp.show_image_chain(images=[imageB, transformed], dpi=150,\n",
    "                     titles=[\"original\", \"transformed\"], )"
   ]
  }
 ],
 "metadata": {
  "kernelspec": {
   "display_name": "venv-isp-fs24",
   "language": "python",
   "name": "python3"
  },
  "language_info": {
   "codemirror_mode": {
    "name": "ipython",
    "version": 3
   },
   "file_extension": ".py",
   "mimetype": "text/x-python",
   "name": "python",
   "nbconvert_exporter": "python",
   "pygments_lexer": "ipython3",
   "version": "3.10.5"
  }
 },
 "nbformat": 4,
 "nbformat_minor": 2
}
