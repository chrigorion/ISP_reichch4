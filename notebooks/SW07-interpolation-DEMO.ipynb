{
 "cells": [
  {
   "cell_type": "markdown",
   "metadata": {},
   "source": [
    "# **Interpolation in image processing**\n",
    "\n",
    "<div style=\"color:#777777;margin-top: -15px;\">\n",
    "<b>Author</b>: Norman Juchler |\n",
    "<b>Course</b>: ADLS ISP |\n",
    "<b>Version</b>: v1.2 <br><br>\n",
    "<!-- Date: 03.04.2025 -->\n",
    "<!-- Comments: Fully refactored. -->\n",
    "</div>\n",
    "\n",
    "Interpolation is a method used to estimate the value of a function at a given point based on known values at surrounding points. In image processing, we can use interpolation to estimate pixel values at non-integer coordinates using the known pixel values at integer coordinates. This is commonly needed in tasks such as resizing, rotating, and warping images. In OpenCV, interpolation is used in functions like: `cv2.resize()`, `cv2.warpAffine()`, and `cv2.warpPerspective()`.\n",
    "\n",
    "To apply interpolation to 2D image data, the concept must be extended from 1D to 2D (or higher dimensions). Figure 1 shows a comparison between 1D and 2D interpolation. Figure 2 illustrates how different interpolation methods affect a 2D grid.\n",
    "\n",
    "<center>\n",
    "<img src=\"../data/doc/interpolation-comparison-2d-3d-plus.svg\" alt=\"interpolation-comparison-2d-3d-plus\" width=\"600\"/>\n",
    "\n",
    "**Figure 1** Comparison of different interpolation techniques in 1D and 2D. [Source](https://en.wikipedia.org/wiki/Bicubic_interpolation)\n",
    "</center>\n",
    "<br><br>\n",
    "\n",
    "![interpolation-methods-2d](../data/doc/interpolation-methods-2d.svg)\n",
    "\n",
    "<br>\n",
    "\n",
    "Common Interpolation Methods in OpenCV\n",
    "\n",
    "The interpolation method in OpenCV functions is specified using a flag from [`cv.InterpolationFlags`](https://docs.opencv.org/4.x/da/d54/group__imgproc__transform.html#ga5bb5a1fea74ea38e1a5445ca803ff121). Common options include:\n",
    "\n",
    "* `INTER_NEAREST`: Nearest-neighbor interpolation. Very fast, but can produce blocky or jagged results.\n",
    "* `INTER_LINEAR`: [Bilinear interpolation](https://en.wikipedia.org/wiki/Bilinear_interpolation). Still fast, with smoother results than nearest-neighbor.\n",
    "* `INTER_CUBIC`: [Bicubic interpolation](https://en.wikipedia.org/wiki/Bicubic_interpolation). Slower, but produces smoother and more natural-looking results, especially when stretching images.\n",
    "* `INTER_AREA`: Uses pixel area relation. Best suited for image shrinking. Uses (windowed/boxed) averaging to reduce aliasing.\n",
    "* `INTER_LANCZOS`: Lanczos interpolation (using an 8×8 pixel neighborhood). Slower, but good for preserving detail in high-resolution images.\n",
    "\n",
    "Lanczos interpolation works by fitting a sinc function (specifically a windowed sinc) over a neighborhood of surrounding pixels—typically an 8×8 grid. It provides high-quality results, especially for resizing images with fine details, by minimizing aliasing and preserving sharp edges.\n",
    "\n",
    "Note: In high-resolution images, differences between interpolation methods are subtle and often only visible when zoomed in."
   ]
  },
  {
   "cell_type": "markdown",
   "metadata": {},
   "source": [
    "---\n",
    "\n",
    "## **Preparations**\n",
    "\n",
    "The usual preparations... The package `isp` provides some helper functions to easily render images in this Jupyter notebook."
   ]
  },
  {
   "cell_type": "code",
   "execution_count": null,
   "metadata": {},
   "outputs": [],
   "source": [
    "import sys\n",
    "import cv2 as cv\n",
    "import numpy as np\n",
    "import matplotlib.pyplot as plt\n",
    "\n",
    "# Enable vectorized output (for nicer plots)\n",
    "%config InlineBackend.figure_formats = [\"svg\"]\n",
    "\n",
    "# Inline backend configuration\n",
    "%matplotlib inline\n",
    "\n",
    "# Functionality related to this course\n",
    "sys.path.append(\"..\")\n",
    "import isp\n",
    "\n",
    "# Jupyter / IPython configuration:\n",
    "# Automatically reload modules when modified\n",
    "%load_ext autoreload\n",
    "%autoreload 2"
   ]
  },
  {
   "cell_type": "markdown",
   "metadata": {},
   "source": [
    "In addition to loading images from files, we will also use synthetically generated checkerboard patterns – a common test pattern in computer vision tasks. (You may recall implementing your own version of this in a previous exercise.)\n",
    "\n"
   ]
  },
  {
   "cell_type": "code",
   "execution_count": null,
   "metadata": {},
   "outputs": [],
   "source": [
    "def create_checkerboard_image(width, height, tile_size, rotation=0):\n",
    "    \"\"\"\n",
    "    Create a synthetic checkerboard image.\n",
    "\n",
    "    Parameters:\n",
    "        width (int): Width of the image in pixels.\n",
    "        height (int): Height of the image in pixels.\n",
    "        tile_size (int): Size of each checker tile in pixels.\n",
    "        rotation (float): Optional rotation angle in degrees (default: 0).\n",
    "\n",
    "    Returns:\n",
    "        np.ndarray: Grayscale checkerboard image of shape (height, width).\n",
    "    \"\"\"\n",
    "    \n",
    "    # Number of tiles needed\n",
    "    tiles_x = width // tile_size + 1\n",
    "    tiles_y = height // tile_size + 1\n",
    "\n",
    "    # Create 2x2 checker tile\n",
    "    tile_white = np.ones((tile_size, tile_size), dtype=np.uint8)\n",
    "    tile_black = np.zeros((tile_size, tile_size), dtype=np.uint8)\n",
    "    \n",
    "    # Create a 2x2 checkerboard tile\n",
    "    checker_tile = np.vstack([np.hstack([tile_white, tile_black]),\n",
    "                              np.hstack([tile_black, tile_white])]) \n",
    "    checker_tile *= 255\n",
    "    \n",
    "    # Create the full checkerboard by tiling the 2x2 tile\n",
    "    checkerboard = np.tile(checker_tile, (tiles_y // 2, tiles_x // 2))\n",
    "\n",
    "    # Crop to exact dimensions\n",
    "    checkerboard = checkerboard[:height, :width]\n",
    "\n",
    "    # Rotate if needed\n",
    "    if rotation != 0:\n",
    "        center = (width // 2, height // 2)\n",
    "        rot_mat = cv.getRotationMatrix2D(center, rotation, 1.0)\n",
    "        checkerboard = cv.warpAffine(checkerboard, rot_mat, (width, height),\n",
    "                                     flags=cv.INTER_LINEAR,\n",
    "                                     borderMode=cv.BORDER_WRAP)\n",
    "\n",
    "    # Optionally convert to 3-channel for visualization\n",
    "    # checkerboard = cv.cvtColor(checkerboard, cv.COLOR_GRAY2BGR)\n",
    "\n",
    "    return checkerboard"
   ]
  },
  {
   "cell_type": "markdown",
   "metadata": {},
   "source": [
    "Next, we define a function to compare different interpolation methods using `cv.resize()`. While we focus on this function for simplicity, the same interpolation options are available in other OpenCV functions. It's helpful to understand how `cv.resize()` works before proceeding to the next cell."
   ]
  },
  {
   "cell_type": "code",
   "execution_count": null,
   "metadata": {},
   "outputs": [],
   "source": [
    "interpolation_methods = {\n",
    "    \"nearest\": cv.INTER_NEAREST,\n",
    "    \"bilinear\": cv.INTER_LINEAR,\n",
    "    \"bicubic\": cv.INTER_CUBIC,\n",
    "    \"area\": cv.INTER_AREA,\n",
    "    \"lanczos4\": cv.INTER_LANCZOS4\n",
    "}\n",
    "\n",
    "\n",
    "def interpolation_test(img, scale, ncols=-1, figsize=(9, 1.8)):\n",
    "    \"\"\"\n",
    "    Resize an image using various interpolation methods and display the results.\n",
    "    \"\"\"\n",
    "    height, width = img.shape[:2]\n",
    "    new_height, new_width = int(height * scale), int(width * scale)\n",
    "\n",
    "    # Determine color map for grayscale images\n",
    "    is_gray = img.ndim == 2 or (img.ndim == 3 and img.shape[2] == 1)\n",
    "    cmap = \"gray\" if is_gray else None\n",
    "\n",
    "    print(f\"Original size: {height} x {width}\")\n",
    "    print(f\"Resized size:  {new_height} x {new_width}\")\n",
    "\n",
    "    results = []\n",
    "    for method in interpolation_methods.values():\n",
    "        resized = cv.resize(img, (new_width, new_height), interpolation=method)\n",
    "        results.append(resized)\n",
    "\n",
    "    # Include original image as first\n",
    "    results.insert(0, img)\n",
    "    \n",
    "    # Labels for the images\n",
    "    titles = [\"original\"] + list(interpolation_methods.keys())\n",
    "\n",
    "    if ncols < 0:\n",
    "        ncols = len(titles)\n",
    "\n",
    "    isp.show_image_grid(\n",
    "        results,\n",
    "        titles=titles,\n",
    "        ncols=ncols,\n",
    "        suppress_info=True,\n",
    "        figsize=figsize,\n",
    "        shape=None\n",
    "    )\n",
    "\n",
    "    return results"
   ]
  },
  {
   "cell_type": "markdown",
   "metadata": {},
   "source": [
    "## **Downscaling**\n",
    "\n",
    "For downscaling, area-based interpolation is a good choice. Lanczos interpolation can help reduce aliasing artifacts, but its effectiveness varies depending on the image content and scaling factor."
   ]
  },
  {
   "cell_type": "code",
   "execution_count": null,
   "metadata": {},
   "outputs": [],
   "source": [
    "\n",
    "scale = 0.21\n",
    "\n",
    "isp.show_header(\"Test 1: Downscale cat image\")\n",
    "image = cv.imread(filename=\"../data/images/cat.png\", flags=cv.IMREAD_COLOR)\n",
    "image = cv.cvtColor(image, cv.COLOR_BGR2RGB)\n",
    "out = interpolation_test(image, scale=scale)\n",
    "\n",
    "isp.show_header(\"Test 2: Downscale checkerboard\")\n",
    "image = create_checkerboard_image(200, 200, 25, rotation=20)\n",
    "out = interpolation_test(image, scale=scale)"
   ]
  },
  {
   "cell_type": "markdown",
   "metadata": {},
   "source": [
    "## **Upscaling**\n",
    "\n",
    "For upscaling, bicubic and Lanczos interpolation generally produce the best results. Nearest-neighbor and area-based methods tend to introduce blocky artifacts, while bilinear interpolation often appears slightly blurry."
   ]
  },
  {
   "cell_type": "code",
   "execution_count": null,
   "metadata": {},
   "outputs": [],
   "source": [
    "isp.show_header(\"Test 3: Upscale cat image\")\n",
    "image = cv.imread(filename=\"../data/images/cat_low.png\",\n",
    "                   flags=cv.IMREAD_COLOR)\n",
    "image = cv.cvtColor(image, cv.COLOR_BGR2RGB)\n",
    "out = interpolation_test(image, scale=4)\n",
    "\n",
    "isp.show_header(\"Test 4: Upscale checkerboard\")\n",
    "image = create_checkerboard_image(60, 60, 10, rotation=30)\n",
    "out = interpolation_test(image, scale=4)"
   ]
  }
 ],
 "metadata": {
  "kernelspec": {
   "display_name": "venv-isp-fs24",
   "language": "python",
   "name": "python3"
  },
  "language_info": {
   "codemirror_mode": {
    "name": "ipython",
    "version": 3
   },
   "file_extension": ".py",
   "mimetype": "text/x-python",
   "name": "python",
   "nbconvert_exporter": "python",
   "pygments_lexer": "ipython3",
   "version": "3.10.5"
  }
 },
 "nbformat": 4,
 "nbformat_minor": 2
}
